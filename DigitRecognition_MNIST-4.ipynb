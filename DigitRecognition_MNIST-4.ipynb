{
  "nbformat": 4,
  "nbformat_minor": 0,
  "metadata": {
    "colab": {
      "provenance": []
    },
    "kernelspec": {
      "name": "python3",
      "display_name": "Python 3"
    },
    "language_info": {
      "name": "python"
    }
  },
  "cells": [
    {
      "cell_type": "code",
      "execution_count": 1,
      "metadata": {
        "id": "2oI8TmSoY0Bn"
      },
      "outputs": [],
      "source": [
        "import torch\n",
        "import torch.nn as nn\n",
        "import torchvision\n",
        "import torchvision.transforms as transforms\n",
        "import os\n",
        "import logging\n",
        "from torch.utils.tensorboard import SummaryWriter\n",
        "from PIL import Image\n",
        "import matplotlib.pyplot as plt\n",
        "import gdown"
      ]
    },
    {
      "cell_type": "code",
      "source": [
        "def create_logger(log_file='training.log'):\n",
        "    # Create a logger\n",
        "    logger = logging.getLogger('my_logger')\n",
        "    logger.setLevel(logging.INFO)  # Set the logging level\n",
        "\n",
        "    # Create a file handler to log to a file\n",
        "    if not os.path.exists('logs'):  # Create a logs directory if it doesn't exist\n",
        "        os.makedirs('logs')\n",
        "    file_handler = logging.FileHandler(os.path.join('logs', log_file))\n",
        "    file_handler.setLevel(logging.INFO)\n",
        "\n",
        "    # Create a console handler to log to console\n",
        "    console_handler = logging.StreamHandler()\n",
        "    console_handler.setLevel(logging.INFO)\n",
        "\n",
        "    # Create a logging format\n",
        "    formatter = logging.Formatter('%(asctime)s - %(levelname)s - %(message)s')\n",
        "    file_handler.setFormatter(formatter)\n",
        "    console_handler.setFormatter(formatter)\n",
        "\n",
        "    # Add handlers to the logger\n",
        "    logger.addHandler(file_handler)\n",
        "    logger.addHandler(console_handler)\n",
        "    return logger"
      ],
      "metadata": {
        "id": "au-b63m2uvI6"
      },
      "execution_count": 2,
      "outputs": []
    },
    {
      "cell_type": "code",
      "source": [
        "def get_loaders(batch_size, test_batch_size=256):\n",
        "  logger = create_logger()\n",
        "\n",
        "  logger.info(\"Starting to load the datasets...\")\n",
        "  transform = torchvision.transforms.Compose([torchvision.transforms.ToTensor()])\n",
        "\n",
        "  full_training_data = torchvision.datasets.MNIST('./data', train = True, transform=transform, download = True)\n",
        "  logger.info(\"Loaded full training data.\")\n",
        "\n",
        "  test_data = torchvision.datasets.MNIST('./data',train = False, transform=transform, download = True)\n",
        "  logger.info(\"Loaded test data.\")\n",
        "\n",
        "  n_examples = len(full_training_data)\n",
        "  n_train = int(n_examples * 0.5 + 1)\n",
        "  n_valid = n_examples - n_train\n",
        "  assert n_train > 1\n",
        "  assert n_valid > 1\n",
        "\n",
        "  training_data , validation_data = torch.utils.data.random_split ( full_training_data ,[n_train,n_valid])\n",
        "  logger.info(f\"Split the data into {len(training_data)} training examples and {len(validation_data)} validation examples.\")\n",
        "\n",
        "  train_loader = torch.utils.data.DataLoader(training_data,batch_size,shuffle = True)\n",
        "  logger.info(f\"Created training data loader with batch size {batch_size}.\")\n",
        "\n",
        "  validation_loader = torch.utils.data.DataLoader(validation_data,test_batch_size,shuffle = False)\n",
        "  logger.info(f\"Created validation data loader with batch size {test_batch_size}.\")\n",
        "\n",
        "  test_loader = torch.utils.data.DataLoader(test_data,test_batch_size,shuffle = False)\n",
        "  logger.info(f\"Created test data loader with batch size {test_batch_size}.\")\n",
        "\n",
        "  return train_loader,validation_loader,test_loader,logger"
      ],
      "metadata": {
        "id": "Dj4pMGkHmhaz"
      },
      "execution_count": 3,
      "outputs": []
    },
    {
      "cell_type": "code",
      "source": [
        "# Let's test our code!\n",
        "train_loader, validation_loader, test_loader, logger = get_loaders(32)  # Capture all 4 values, including logger\n",
        "for t in train_loader:\n",
        "    print(type(t))  # Should print the type of the batch\n",
        "    print(len(t))   # Should print the number of elements in the batch (usually 2: images and labels)\n",
        "    print(type(t[0]))  # Should print the type of the images (should be a Tensor)\n",
        "    print(t[0].size())  # Should print the size of the images (e.g., [batch_size, channels, height, width])\n",
        "    break  # Only process the first batch for testing"
      ],
      "metadata": {
        "colab": {
          "base_uri": "https://localhost:8080/"
        },
        "id": "cX3DLyiToFuU",
        "outputId": "0831f747-a729-4206-8a14-0cd7d4107c71"
      },
      "execution_count": 15,
      "outputs": [
        {
          "output_type": "stream",
          "name": "stderr",
          "text": [
            "2024-09-30 11:07:11,080 - INFO - Starting to load the datasets...\n",
            "2024-09-30 11:07:11,080 - INFO - Starting to load the datasets...\n",
            "2024-09-30 11:07:11,080 - INFO - Starting to load the datasets...\n",
            "INFO:my_logger:Starting to load the datasets...\n",
            "2024-09-30 11:07:11,396 - INFO - Loaded full training data.\n",
            "2024-09-30 11:07:11,396 - INFO - Loaded full training data.\n",
            "2024-09-30 11:07:11,396 - INFO - Loaded full training data.\n",
            "INFO:my_logger:Loaded full training data.\n",
            "2024-09-30 11:07:11,460 - INFO - Loaded test data.\n",
            "2024-09-30 11:07:11,460 - INFO - Loaded test data.\n",
            "2024-09-30 11:07:11,460 - INFO - Loaded test data.\n",
            "INFO:my_logger:Loaded test data.\n",
            "2024-09-30 11:07:11,485 - INFO - Split the data into 30001 training examples and 29999 validation examples.\n",
            "2024-09-30 11:07:11,485 - INFO - Split the data into 30001 training examples and 29999 validation examples.\n",
            "2024-09-30 11:07:11,485 - INFO - Split the data into 30001 training examples and 29999 validation examples.\n",
            "INFO:my_logger:Split the data into 30001 training examples and 29999 validation examples.\n",
            "2024-09-30 11:07:11,497 - INFO - Created training data loader with batch size 32.\n",
            "2024-09-30 11:07:11,497 - INFO - Created training data loader with batch size 32.\n",
            "2024-09-30 11:07:11,497 - INFO - Created training data loader with batch size 32.\n",
            "INFO:my_logger:Created training data loader with batch size 32.\n",
            "2024-09-30 11:07:11,503 - INFO - Created validation data loader with batch size 256.\n",
            "2024-09-30 11:07:11,503 - INFO - Created validation data loader with batch size 256.\n",
            "2024-09-30 11:07:11,503 - INFO - Created validation data loader with batch size 256.\n",
            "INFO:my_logger:Created validation data loader with batch size 256.\n",
            "2024-09-30 11:07:11,508 - INFO - Created test data loader with batch size 256.\n",
            "2024-09-30 11:07:11,508 - INFO - Created test data loader with batch size 256.\n",
            "2024-09-30 11:07:11,508 - INFO - Created test data loader with batch size 256.\n",
            "INFO:my_logger:Created test data loader with batch size 256.\n"
          ]
        },
        {
          "output_type": "stream",
          "name": "stdout",
          "text": [
            "<class 'list'>\n",
            "2\n",
            "<class 'torch.Tensor'>\n",
            "torch.Size([32, 1, 28, 28])\n"
          ]
        }
      ]
    },
    {
      "cell_type": "code",
      "source": [
        "data_iter = iter(train_loader)\n",
        "images, labels = next(data_iter)  # Get a batch of 32 images (based on batch_size=32)\n",
        "\n",
        "# Display just a few images, let's say 5\n",
        "for i in range(5):\n",
        "    plt.imshow(images[i].squeeze(), cmap='gray')  # Remove the color channel (1x28x28 -> 28x28)\n",
        "    plt.title(f\"Label: {labels[i].item()}\")  # Display the label\n",
        "    plt.show()  # Show one image at a time"
      ],
      "metadata": {
        "colab": {
          "base_uri": "https://localhost:8080/",
          "height": 1000
        },
        "id": "kINuks2B7I6z",
        "outputId": "65f23edf-0b9e-4555-c337-96f8271677ce"
      },
      "execution_count": 107,
      "outputs": [
        {
          "output_type": "display_data",
          "data": {
            "text/plain": [
              "<Figure size 640x480 with 1 Axes>"
            ],
            "image/png": "[encoded data removed]"
          },
          "metadata": {}
        },
        {
          "output_type": "display_data",
          "data": {
            "text/plain": [
              "<Figure size 640x480 with 1 Axes>"
            ],
            "image/png": "[encoded data removed]"
          },
          "metadata": {}
        },
        {
          "output_type": "display_data",
          "data": {
            "text/plain": [
              "<Figure size 640x480 with 1 Axes>"
            ],
            "image/png": "[encoded data removed]"
          },
          "metadata": {}
        },
        {
          "output_type": "display_data",
          "data": {
            "text/plain": [
              "<Figure size 640x480 with 1 Axes>"
            ],
            "image/png": "[encoded data removed]"
          },
          "metadata": {}
        },
        {
          "output_type": "display_data",
          "data": {
            "text/plain": [
              "<Figure size 640x480 with 1 Axes>"
            ],
            "image/png": "[encoded data removed]"
          },
          "metadata": {}
        }
      ]
    },
    {
      "cell_type": "code",
      "source": [
        "class MyFirstNetwork(torch.nn.Module):\n",
        "  def __init__(self,input_dim,hidden_dim,output_dim):\n",
        "    super(MyFirstNetwork,self).__init__()\n",
        "    #first linear layer (input) to hidden layer\n",
        "    self.fc1 = torch.nn.Linear(input_dim,hidden_dim)\n",
        "    #Activation Function\n",
        "    self.relu = torch.nn.ReLU()\n",
        "    #Second linear layer to output\n",
        "    self.fc2 = torch.nn.Linear(hidden_dim,output_dim)\n",
        "    # PyTorch automatically initializes biases in Linear layers,\n",
        "  def forward(self,x):\n",
        "    x = x.view(x.shape[0], -1)\n",
        "    x = self.fc1(x)\n",
        "    x = self.relu(x)\n",
        "    x = self.fc2(x)\n",
        "\n",
        "    return x"
      ],
      "metadata": {
        "id": "8xi992oH8BhO"
      },
      "execution_count": 5,
      "outputs": []
    },
    {
      "cell_type": "code",
      "source": [
        "def get_optimizer(net,lr=0.01,wd=0,momentum=0):\n",
        "  optimizer =torch.optim.SGD(\n",
        "    net.parameters(),\n",
        "    lr=lr,\n",
        "    weight_decay = wd,\n",
        "    momentum = momentum\n",
        "  )\n",
        "  return optimizer"
      ],
      "metadata": {
        "id": "Laq06GE3V6b4"
      },
      "execution_count": 6,
      "outputs": []
    },
    {
      "cell_type": "code",
      "source": [
        "def get_cost_function():\n",
        "  cost_function = torch.nn.CrossEntropyLoss()\n",
        "  return cost_function"
      ],
      "metadata": {
        "id": "hfjVPkkbY30R"
      },
      "execution_count": 7,
      "outputs": []
    },
    {
      "cell_type": "code",
      "source": [
        "def training_step(net, data_loader, optimizer, cost_function, device='cpu'):\n",
        "\n",
        "    samples = 0.\n",
        "    cumulative_loss = 0.\n",
        "    cumulative_accuracy = 0.\n",
        "\n",
        "    # Set the network to training mode\n",
        "    net.train()\n",
        "\n",
        "    # Iterate over the training set\n",
        "    for batch_idx, (inputs, targets) in enumerate(data_loader):\n",
        "\n",
        "        # Load data into GPU (if available)\n",
        "        inputs, targets = inputs.to(device), targets.to(device)\n",
        "\n",
        "        # Forward pass\n",
        "        outputs = net(inputs)\n",
        "\n",
        "        # Loss computation\n",
        "        loss = cost_function(outputs, targets)\n",
        "\n",
        "        # Backward pass\n",
        "        loss.backward()\n",
        "\n",
        "        # Parameters update\n",
        "        optimizer.step()\n",
        "\n",
        "        # Gradients reset (this is important to avoid accumulation of gradients from previous batches)\n",
        "        optimizer.zero_grad()\n",
        "\n",
        "        # Fetch prediction and loss value\n",
        "        samples += inputs.shape[0]\n",
        "        cumulative_loss += loss.item()\n",
        "        _, predicted = outputs.max(dim=1)  # max() returns (maximum_value, index_of_maximum_value)\n",
        "\n",
        "        # Compute training accuracy\n",
        "        cumulative_accuracy += predicted.eq(targets).sum().item()\n",
        "\n",
        "    # Return average loss and accuracy for this epoch\n",
        "    return cumulative_loss/samples, cumulative_accuracy/samples * 100\n",
        "def test_step(net, data_loader, cost_function, device='cpu'):\n",
        "\n",
        "    samples = 0.\n",
        "    cumulative_loss = 0.\n",
        "    cumulative_accuracy = 0.\n",
        "\n",
        "    # Set the network to evaluation mode\n",
        "    net.eval()\n",
        "\n",
        "    # Disable gradient computation (since we are only testing)\n",
        "    with torch.no_grad():\n",
        "\n",
        "        # Iterate over the test set\n",
        "        for batch_idx, (inputs, targets) in enumerate(data_loader):\n",
        "\n",
        "            # Load data into GPU (if available)\n",
        "            inputs, targets = inputs.to(device), targets.to(device)\n",
        "\n",
        "            # Forward pass\n",
        "            outputs = net(inputs)\n",
        "\n",
        "            # Loss computation\n",
        "            loss = cost_function(outputs, targets)\n",
        "\n",
        "            # Fetch prediction and loss value\n",
        "            samples += inputs.shape[0]\n",
        "            cumulative_loss += loss.item()\n",
        "            _, predicted = outputs.max(dim=1)\n",
        "\n",
        "            # Compute accuracy\n",
        "            cumulative_accuracy += predicted.eq(targets).sum().item()\n",
        "\n",
        "    # Return average loss and accuracy for this epoch\n",
        "    return cumulative_loss/samples, cumulative_accuracy/samples * 100\n"
      ],
      "metadata": {
        "id": "C-mz_7AWbrsF"
      },
      "execution_count": 8,
      "outputs": []
    },
    {
      "cell_type": "code",
      "source": [
        "# tensorboard logging utilities\n",
        "def log_values(writer, step, loss, accuracy, prefix):\n",
        "  writer.add_scalar(f\"{prefix}/loss\", loss, step)\n",
        "  writer.add_scalar(f\"{prefix}/accuracy\", accuracy, step)\n",
        "\n",
        "# main function\n",
        "def main(\n",
        "      batch_size=128,\n",
        "      input_dim=28*28,\n",
        "      hidden_dim=100,\n",
        "      output_dim=10,\n",
        "      device='cpu:0',\n",
        "      learning_rate=0.01,\n",
        "      weight_decay=0.000001,\n",
        "      momentum=0.9,\n",
        "      epochs=10\n",
        "    ):\n",
        "\n",
        "  from torch.utils.tensorboard import SummaryWriter\n",
        "\n",
        "  # Create a logger for the experiment\n",
        "  writer = SummaryWriter(log_dir=\"runs/exp1\")\n",
        "\n",
        "  # Get dataloaders (assuming `get_data` returns train, val, test DataLoaders)\n",
        "  train_loader, validation_loader, test_loader,logger = get_loaders(batch_size)\n",
        "\n",
        "  # Instantiate the network and move it to the chosen device (GPU/CPU)\n",
        "  net = MyFirstNetwork(input_dim=input_dim, hidden_dim=hidden_dim, output_dim=output_dim).to(device)\n",
        "\n",
        "  # Instantiate the optimizer\n",
        "  optimizer = get_optimizer(net, lr=learning_rate, wd=weight_decay, momentum=momentum)\n",
        "\n",
        "  # Define the cost function\n",
        "  cost_function = get_cost_function()\n",
        "\n",
        "  # Compute evaluation results before training\n",
        "  print('Before training:')\n",
        "  train_loss, train_accuracy = test_step(net, train_loader, cost_function, device)\n",
        "  val_loss, val_accuracy = test_step(net, validation_loader, cost_function, device)\n",
        "  test_loss, test_accuracy = test_step(net, test_loader, cost_function, device)\n",
        "\n",
        "  # Log to TensorBoard\n",
        "  log_values(writer, -1, train_loss, train_accuracy, \"Train\")\n",
        "  log_values(writer, -1, val_loss, val_accuracy, \"Validation\")\n",
        "  log_values(writer, -1, test_loss, test_accuracy, \"Test\")\n",
        "\n",
        "  print(f'\\t Training loss {train_loss:.5f}, Training accuracy {train_accuracy:.2f}')\n",
        "  print(f'\\t Validation loss {val_loss:.5f}, Validation accuracy {val_accuracy:.2f}')\n",
        "  print(f'\\t Test loss {test_loss:.5f}, Test accuracy {test_accuracy:.2f}')\n",
        "  print('-----------------------------------------------------')\n",
        "\n",
        "  # For each epoch, train the network and then compute evaluation results\n",
        "  for e in range(epochs):\n",
        "\n",
        "    # Perform training step\n",
        "    train_loss, train_accuracy = training_step(net, train_loader, optimizer, cost_function, device)\n",
        "\n",
        "    # Perform evaluation step\n",
        "    val_loss, val_accuracy = test_step(net, validation_loader, cost_function, device)\n",
        "\n",
        "    # Logs to TensorBoard\n",
        "    log_values(writer, e, train_loss, train_accuracy, \"Train\")\n",
        "    log_values(writer, e, val_loss, val_accuracy, \"Validation\")\n",
        "\n",
        "    print(f'Epoch: {e+1}')\n",
        "    print(f'\\t Training loss {train_loss:.5f}, Training accuracy {train_accuracy:.2f}')\n",
        "    print(f'\\t Validation loss {val_loss:.5f}, Validation accuracy {val_accuracy:.2f}')\n",
        "    print('-----------------------------------------------------')\n",
        "\n",
        "  # Save the trained model\n",
        "  model_path = 'mnist_model.pth'\n",
        "  torch.save(net.state_dict(), model_path)\n",
        "  print(f\"Model saved to {model_path}\")\n",
        "\n",
        "  # Compute final evaluation results after training\n",
        "  print('After training:')\n",
        "  train_loss, train_accuracy = test_step(net, train_loader, cost_function, device)\n",
        "  val_loss, val_accuracy = test_step(net, validation_loader, cost_function, device)\n",
        "  test_loss, test_accuracy = test_step(net, test_loader, cost_function, device)\n",
        "\n",
        "  # Log final results to TensorBoard\n",
        "  log_values(writer, epochs, train_loss, train_accuracy, \"Train\")\n",
        "  log_values(writer, epochs, val_loss, val_accuracy, \"Validation\")\n",
        "  log_values(writer, epochs, test_loss, test_accuracy, \"Test\")\n",
        "\n",
        "  print(f'\\t Training loss {train_loss:.5f}, Training accuracy {train_accuracy:.2f}')\n",
        "  print(f'\\t Validation loss {val_loss:.5f}, Validation accuracy {val_accuracy:.2f}')\n",
        "  print(f'\\t Test loss {test_loss:.5f}, Test accuracy {test_accuracy:.2f}')\n",
        "  print('-----------------------------------------------------')\n",
        "\n",
        "  # Close the TensorBoard writer\n",
        "  writer.close()\n"
      ],
      "metadata": {
        "id": "byaeYk6vcGDq"
      },
      "execution_count": 9,
      "outputs": []
    },
    {
      "cell_type": "code",
      "source": [
        "if __name__ == \"__main__\":\n",
        "    main()"
      ],
      "metadata": {
        "id": "KIwICpyrcQlj",
        "colab": {
          "base_uri": "https://localhost:8080/"
        },
        "outputId": "97fc9021-ff9d-4f18-eef5-b0a92e7534d1"
      },
      "execution_count": 10,
      "outputs": [
        {
          "output_type": "stream",
          "name": "stderr",
          "text": [
            "2024-09-30 10:03:58,491 - INFO - Starting to load the datasets...\n",
            "2024-09-30 10:03:58,491 - INFO - Starting to load the datasets...\n",
            "INFO:my_logger:Starting to load the datasets...\n",
            "2024-09-30 10:03:58,615 - INFO - Loaded full training data.\n",
            "2024-09-30 10:03:58,615 - INFO - Loaded full training data.\n",
            "INFO:my_logger:Loaded full training data.\n",
            "2024-09-30 10:03:58,640 - INFO - Loaded test data.\n",
            "2024-09-30 10:03:58,640 - INFO - Loaded test data.\n",
            "INFO:my_logger:Loaded test data.\n",
            "2024-09-30 10:03:58,653 - INFO - Split the data into 30001 training examples and 29999 validation examples.\n",
            "2024-09-30 10:03:58,653 - INFO - Split the data into 30001 training examples and 29999 validation examples.\n",
            "INFO:my_logger:Split the data into 30001 training examples and 29999 validation examples.\n",
            "2024-09-30 10:03:58,659 - INFO - Created training data loader with batch size 128.\n",
            "2024-09-30 10:03:58,659 - INFO - Created training data loader with batch size 128.\n",
            "INFO:my_logger:Created training data loader with batch size 128.\n",
            "2024-09-30 10:03:58,665 - INFO - Created validation data loader with batch size 256.\n",
            "2024-09-30 10:03:58,665 - INFO - Created validation data loader with batch size 256.\n",
            "INFO:my_logger:Created validation data loader with batch size 256.\n",
            "2024-09-30 10:03:58,669 - INFO - Created test data loader with batch size 256.\n",
            "2024-09-30 10:03:58,669 - INFO - Created test data loader with batch size 256.\n",
            "INFO:my_logger:Created test data loader with batch size 256.\n"
          ]
        },
        {
          "output_type": "stream",
          "name": "stdout",
          "text": [
            "Before training:\n",
            "\t Training loss 0.01809, Training accuracy 8.85\n",
            "\t Validation loss 0.00908, Validation accuracy 9.18\n",
            "\t Test loss 0.00924, Test accuracy 8.97\n",
            "-----------------------------------------------------\n",
            "Epoch: 1\n",
            "\t Training loss 0.00694, Training accuracy 78.04\n",
            "\t Validation loss 0.00161, Validation accuracy 88.67\n",
            "-----------------------------------------------------\n",
            "Epoch: 2\n",
            "\t Training loss 0.00277, Training accuracy 89.85\n",
            "\t Validation loss 0.00131, Validation accuracy 90.60\n",
            "-----------------------------------------------------\n",
            "Epoch: 3\n",
            "\t Training loss 0.00235, Training accuracy 91.22\n",
            "\t Validation loss 0.00119, Validation accuracy 91.43\n",
            "-----------------------------------------------------\n",
            "Epoch: 4\n",
            "\t Training loss 0.00210, Training accuracy 92.23\n",
            "\t Validation loss 0.00108, Validation accuracy 92.27\n",
            "-----------------------------------------------------\n",
            "Epoch: 5\n",
            "\t Training loss 0.00190, Training accuracy 93.06\n",
            "\t Validation loss 0.00100, Validation accuracy 92.83\n",
            "-----------------------------------------------------\n",
            "Epoch: 6\n",
            "\t Training loss 0.00174, Training accuracy 93.71\n",
            "\t Validation loss 0.00094, Validation accuracy 93.11\n",
            "-----------------------------------------------------\n",
            "Epoch: 7\n",
            "\t Training loss 0.00160, Training accuracy 94.18\n",
            "\t Validation loss 0.00087, Validation accuracy 93.71\n",
            "-----------------------------------------------------\n",
            "Epoch: 8\n",
            "\t Training loss 0.00148, Training accuracy 94.59\n",
            "\t Validation loss 0.00083, Validation accuracy 93.96\n",
            "-----------------------------------------------------\n",
            "Epoch: 9\n",
            "\t Training loss 0.00138, Training accuracy 95.04\n",
            "\t Validation loss 0.00079, Validation accuracy 94.28\n",
            "-----------------------------------------------------\n",
            "Epoch: 10\n",
            "\t Training loss 0.00128, Training accuracy 95.40\n",
            "\t Validation loss 0.00076, Validation accuracy 94.44\n",
            "-----------------------------------------------------\n",
            "Model saved to mnist_model.pth\n",
            "After training:\n",
            "\t Training loss 0.00121, Training accuracy 95.61\n",
            "\t Validation loss 0.00076, Validation accuracy 94.44\n",
            "\t Test loss 0.00068, Test accuracy 94.94\n",
            "-----------------------------------------------------\n"
          ]
        }
      ]
    }
  ]
}